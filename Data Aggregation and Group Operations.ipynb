{
 "cells": [
  {
   "cell_type": "code",
   "execution_count": 13,
   "metadata": {
    "colab": {
     "base_uri": "https://localhost:8080/",
     "height": 204
    },
    "executionInfo": {
     "elapsed": 3065,
     "status": "ok",
     "timestamp": 1609473298139,
     "user": {
      "displayName": "prathviraj shetty",
      "photoUrl": "https://lh3.googleusercontent.com/a-/AOh14GhKody4bMBhr3sFjBRSMtPKerrzBoUK7stNKBFvrA=s64",
      "userId": "03618971057838723327"
     },
     "user_tz": -330
    },
    "id": "rS_xf5yQ2WS1",
    "outputId": "c529ae61-b5b5-49cd-b3cf-16f80ea52242"
   },
   "outputs": [
    {
     "data": {
      "text/html": [
       "<div>\n",
       "<style scoped>\n",
       "    .dataframe tbody tr th:only-of-type {\n",
       "        vertical-align: middle;\n",
       "    }\n",
       "\n",
       "    .dataframe tbody tr th {\n",
       "        vertical-align: top;\n",
       "    }\n",
       "\n",
       "    .dataframe thead th {\n",
       "        text-align: right;\n",
       "    }\n",
       "</style>\n",
       "<table border=\"1\" class=\"dataframe\">\n",
       "  <thead>\n",
       "    <tr style=\"text-align: right;\">\n",
       "      <th></th>\n",
       "      <th>key1</th>\n",
       "      <th>key2</th>\n",
       "      <th>data1</th>\n",
       "      <th>data2</th>\n",
       "    </tr>\n",
       "  </thead>\n",
       "  <tbody>\n",
       "    <tr>\n",
       "      <th>0</th>\n",
       "      <td>a</td>\n",
       "      <td>one</td>\n",
       "      <td>0.022212</td>\n",
       "      <td>0.555785</td>\n",
       "    </tr>\n",
       "    <tr>\n",
       "      <th>1</th>\n",
       "      <td>a</td>\n",
       "      <td>two</td>\n",
       "      <td>0.645846</td>\n",
       "      <td>2.091152</td>\n",
       "    </tr>\n",
       "    <tr>\n",
       "      <th>2</th>\n",
       "      <td>b</td>\n",
       "      <td>one</td>\n",
       "      <td>0.692301</td>\n",
       "      <td>0.252874</td>\n",
       "    </tr>\n",
       "    <tr>\n",
       "      <th>3</th>\n",
       "      <td>b</td>\n",
       "      <td>two</td>\n",
       "      <td>0.261721</td>\n",
       "      <td>-0.505822</td>\n",
       "    </tr>\n",
       "    <tr>\n",
       "      <th>4</th>\n",
       "      <td>a</td>\n",
       "      <td>one</td>\n",
       "      <td>-0.377385</td>\n",
       "      <td>-0.041419</td>\n",
       "    </tr>\n",
       "  </tbody>\n",
       "</table>\n",
       "</div>"
      ],
      "text/plain": [
       "  key1 key2     data1     data2\n",
       "0    a  one  0.022212  0.555785\n",
       "1    a  two  0.645846  2.091152\n",
       "2    b  one  0.692301  0.252874\n",
       "3    b  two  0.261721 -0.505822\n",
       "4    a  one -0.377385 -0.041419"
      ]
     },
     "execution_count": 13,
     "metadata": {
      "tags": []
     },
     "output_type": "execute_result"
    }
   ],
   "source": [
    "In [10]: df = pd.DataFrame({'key1' : ['a', 'a', 'b', 'b', 'a'],\n",
    "....: 'key2' : ['one', 'two', 'one', 'two', 'one'],\n",
    "....: 'data1' : np.random.randn(5),\n",
    "....: 'data2' : np.random.randn(5)})\n",
    "In [11]: df"
   ]
  },
  {
   "cell_type": "code",
   "execution_count": 2,
   "metadata": {
    "executionInfo": {
     "elapsed": 1180,
     "status": "ok",
     "timestamp": 1609472249436,
     "user": {
      "displayName": "prathviraj shetty",
      "photoUrl": "https://lh3.googleusercontent.com/a-/AOh14GhKody4bMBhr3sFjBRSMtPKerrzBoUK7stNKBFvrA=s64",
      "userId": "03618971057838723327"
     },
     "user_tz": -330
    },
    "id": "ZxcO12_2bzQn"
   },
   "outputs": [],
   "source": [
    "import pandas as pd\n",
    "import numpy as np\n"
   ]
  },
  {
   "cell_type": "markdown",
   "metadata": {
    "id": "KqGFY0rdVTOr"
   },
   "source": [
    "# New Section"
   ]
  },
  {
   "cell_type": "code",
   "execution_count": 6,
   "metadata": {
    "colab": {
     "base_uri": "https://localhost:8080/"
    },
    "executionInfo": {
     "elapsed": 1145,
     "status": "ok",
     "timestamp": 1609127192929,
     "user": {
      "displayName": "prathviraj shetty",
      "photoUrl": "https://lh3.googleusercontent.com/a-/AOh14GhKody4bMBhr3sFjBRSMtPKerrzBoUK7stNKBFvrA=s64",
      "userId": "03618971057838723327"
     },
     "user_tz": -330
    },
    "id": "PSK4ibiUbk_w",
    "outputId": "34cc3317-accb-4434-ba38-3877b9e7867f"
   },
   "outputs": [
    {
     "data": {
      "text/plain": [
       "<pandas.core.groupby.generic.SeriesGroupBy object at 0x7f9931d1b6d8>"
      ]
     },
     "execution_count": 6,
     "metadata": {
      "tags": []
     },
     "output_type": "execute_result"
    }
   ],
   "source": [
    "In [12]: grouped = df['data1'].groupby(df['key1'])\n",
    "In [13]: grouped"
   ]
  },
  {
   "cell_type": "code",
   "execution_count": 7,
   "metadata": {
    "colab": {
     "base_uri": "https://localhost:8080/"
    },
    "executionInfo": {
     "elapsed": 1283,
     "status": "ok",
     "timestamp": 1609127221000,
     "user": {
      "displayName": "prathviraj shetty",
      "photoUrl": "https://lh3.googleusercontent.com/a-/AOh14GhKody4bMBhr3sFjBRSMtPKerrzBoUK7stNKBFvrA=s64",
      "userId": "03618971057838723327"
     },
     "user_tz": -330
    },
    "id": "qVi1WgRrcBh7",
    "outputId": "0bd18c6a-037e-4f93-9daf-8e816f22c0bb"
   },
   "outputs": [
    {
     "data": {
      "text/plain": [
       "key1\n",
       "a   -0.376656\n",
       "b    0.617990\n",
       "Name: data1, dtype: float64"
      ]
     },
     "execution_count": 7,
     "metadata": {
      "tags": []
     },
     "output_type": "execute_result"
    }
   ],
   "source": [
    "In [14]: grouped.mean()"
   ]
  },
  {
   "cell_type": "code",
   "execution_count": 9,
   "metadata": {
    "colab": {
     "base_uri": "https://localhost:8080/"
    },
    "executionInfo": {
     "elapsed": 1091,
     "status": "ok",
     "timestamp": 1609127480296,
     "user": {
      "displayName": "prathviraj shetty",
      "photoUrl": "https://lh3.googleusercontent.com/a-/AOh14GhKody4bMBhr3sFjBRSMtPKerrzBoUK7stNKBFvrA=s64",
      "userId": "03618971057838723327"
     },
     "user_tz": -330
    },
    "id": "E0BGoQYacNAB",
    "outputId": "7ddd42a2-81c3-49ff-f243-01dcc8d9eb1c"
   },
   "outputs": [
    {
     "data": {
      "text/plain": [
       "key1  key2\n",
       "a     one     0.858315\n",
       "      two     0.475349\n",
       "b     one    -0.149166\n",
       "      two     0.945977\n",
       "Name: data2, dtype: float64"
      ]
     },
     "execution_count": 9,
     "metadata": {
      "tags": []
     },
     "output_type": "execute_result"
    }
   ],
   "source": [
    "In [15]: means = df['data2'].groupby([df['key1'], df['key2']]).mean()\n",
    "In [16]: means"
   ]
  },
  {
   "cell_type": "code",
   "execution_count": 10,
   "metadata": {
    "colab": {
     "base_uri": "https://localhost:8080/",
     "height": 142
    },
    "executionInfo": {
     "elapsed": 1174,
     "status": "ok",
     "timestamp": 1609127498000,
     "user": {
      "displayName": "prathviraj shetty",
      "photoUrl": "https://lh3.googleusercontent.com/a-/AOh14GhKody4bMBhr3sFjBRSMtPKerrzBoUK7stNKBFvrA=s64",
      "userId": "03618971057838723327"
     },
     "user_tz": -330
    },
    "id": "EqS3G2EvcVFF",
    "outputId": "5bf83a20-9ae1-4a7a-e4cb-a4725e43375b"
   },
   "outputs": [
    {
     "data": {
      "text/html": [
       "<div>\n",
       "<style scoped>\n",
       "    .dataframe tbody tr th:only-of-type {\n",
       "        vertical-align: middle;\n",
       "    }\n",
       "\n",
       "    .dataframe tbody tr th {\n",
       "        vertical-align: top;\n",
       "    }\n",
       "\n",
       "    .dataframe thead th {\n",
       "        text-align: right;\n",
       "    }\n",
       "</style>\n",
       "<table border=\"1\" class=\"dataframe\">\n",
       "  <thead>\n",
       "    <tr style=\"text-align: right;\">\n",
       "      <th>key2</th>\n",
       "      <th>one</th>\n",
       "      <th>two</th>\n",
       "    </tr>\n",
       "    <tr>\n",
       "      <th>key1</th>\n",
       "      <th></th>\n",
       "      <th></th>\n",
       "    </tr>\n",
       "  </thead>\n",
       "  <tbody>\n",
       "    <tr>\n",
       "      <th>a</th>\n",
       "      <td>0.858315</td>\n",
       "      <td>0.475349</td>\n",
       "    </tr>\n",
       "    <tr>\n",
       "      <th>b</th>\n",
       "      <td>-0.149166</td>\n",
       "      <td>0.945977</td>\n",
       "    </tr>\n",
       "  </tbody>\n",
       "</table>\n",
       "</div>"
      ],
      "text/plain": [
       "key2       one       two\n",
       "key1                    \n",
       "a     0.858315  0.475349\n",
       "b    -0.149166  0.945977"
      ]
     },
     "execution_count": 10,
     "metadata": {
      "tags": []
     },
     "output_type": "execute_result"
    }
   ],
   "source": [
    "In [17]: means.unstack()"
   ]
  },
  {
   "cell_type": "code",
   "execution_count": 12,
   "metadata": {
    "colab": {
     "base_uri": "https://localhost:8080/"
    },
    "executionInfo": {
     "elapsed": 1145,
     "status": "ok",
     "timestamp": 1609127607713,
     "user": {
      "displayName": "prathviraj shetty",
      "photoUrl": "https://lh3.googleusercontent.com/a-/AOh14GhKody4bMBhr3sFjBRSMtPKerrzBoUK7stNKBFvrA=s64",
      "userId": "03618971057838723327"
     },
     "user_tz": -330
    },
    "id": "PnkRjWHgcoXD",
    "outputId": "e1a38df3-305d-4bda-98d9-8d8ff4444486"
   },
   "outputs": [
    {
     "data": {
      "text/plain": [
       "California    0.178570\n",
       "Ohio         -0.083709\n",
       "Name: data1, dtype: float64"
      ]
     },
     "execution_count": 12,
     "metadata": {
      "tags": []
     },
     "output_type": "execute_result"
    }
   ],
   "source": [
    "In [18]: states = np.array(['Ohio', 'California', 'California', 'Ohio', 'Ohio'])\n",
    "In [19]: years = np.array([2005, 2005, 2006, 2005, 2006])\n",
    "In [20]: df['data1'].groupby([states]).mean()"
   ]
  },
  {
   "cell_type": "code",
   "execution_count": 13,
   "metadata": {
    "colab": {
     "base_uri": "https://localhost:8080/",
     "height": 142
    },
    "executionInfo": {
     "elapsed": 1174,
     "status": "ok",
     "timestamp": 1609127635047,
     "user": {
      "displayName": "prathviraj shetty",
      "photoUrl": "https://lh3.googleusercontent.com/a-/AOh14GhKody4bMBhr3sFjBRSMtPKerrzBoUK7stNKBFvrA=s64",
      "userId": "03618971057838723327"
     },
     "user_tz": -330
    },
    "id": "qwoBmw_jcq_P",
    "outputId": "c3e07d4a-db9b-4ba3-8bbc-701bf01c0f03"
   },
   "outputs": [
    {
     "data": {
      "text/html": [
       "<div>\n",
       "<style scoped>\n",
       "    .dataframe tbody tr th:only-of-type {\n",
       "        vertical-align: middle;\n",
       "    }\n",
       "\n",
       "    .dataframe tbody tr th {\n",
       "        vertical-align: top;\n",
       "    }\n",
       "\n",
       "    .dataframe thead th {\n",
       "        text-align: right;\n",
       "    }\n",
       "</style>\n",
       "<table border=\"1\" class=\"dataframe\">\n",
       "  <thead>\n",
       "    <tr style=\"text-align: right;\">\n",
       "      <th></th>\n",
       "      <th>data1</th>\n",
       "      <th>data2</th>\n",
       "    </tr>\n",
       "    <tr>\n",
       "      <th>key1</th>\n",
       "      <th></th>\n",
       "      <th></th>\n",
       "    </tr>\n",
       "  </thead>\n",
       "  <tbody>\n",
       "    <tr>\n",
       "      <th>a</th>\n",
       "      <td>-0.376656</td>\n",
       "      <td>0.730660</td>\n",
       "    </tr>\n",
       "    <tr>\n",
       "      <th>b</th>\n",
       "      <td>0.617990</td>\n",
       "      <td>0.398405</td>\n",
       "    </tr>\n",
       "  </tbody>\n",
       "</table>\n",
       "</div>"
      ],
      "text/plain": [
       "         data1     data2\n",
       "key1                    \n",
       "a    -0.376656  0.730660\n",
       "b     0.617990  0.398405"
      ]
     },
     "execution_count": 13,
     "metadata": {
      "tags": []
     },
     "output_type": "execute_result"
    }
   ],
   "source": [
    "In [21]: df.groupby('key1').mean()"
   ]
  },
  {
   "cell_type": "code",
   "execution_count": 14,
   "metadata": {
    "colab": {
     "base_uri": "https://localhost:8080/"
    },
    "executionInfo": {
     "elapsed": 1102,
     "status": "ok",
     "timestamp": 1609127667933,
     "user": {
      "displayName": "prathviraj shetty",
      "photoUrl": "https://lh3.googleusercontent.com/a-/AOh14GhKody4bMBhr3sFjBRSMtPKerrzBoUK7stNKBFvrA=s64",
      "userId": "03618971057838723327"
     },
     "user_tz": -330
    },
    "id": "36UbAuckc5Fc",
    "outputId": "e0b3436c-7f6f-4f21-d0d5-07030f478d43"
   },
   "outputs": [
    {
     "data": {
      "text/plain": [
       "key1  key2\n",
       "a     one     2\n",
       "      two     1\n",
       "b     one     1\n",
       "      two     1\n",
       "dtype: int64"
      ]
     },
     "execution_count": 14,
     "metadata": {
      "tags": []
     },
     "output_type": "execute_result"
    }
   ],
   "source": [
    "In [23]: df.groupby(['key1', 'key2']).size()"
   ]
  },
  {
   "cell_type": "markdown",
   "metadata": {
    "id": "w0LZ6AEEdnvz"
   },
   "source": [
    "**Iterating Over Groups**"
   ]
  },
  {
   "cell_type": "code",
   "execution_count": 15,
   "metadata": {
    "colab": {
     "base_uri": "https://localhost:8080/"
    },
    "executionInfo": {
     "elapsed": 2164,
     "status": "ok",
     "timestamp": 1609127776510,
     "user": {
      "displayName": "prathviraj shetty",
      "photoUrl": "https://lh3.googleusercontent.com/a-/AOh14GhKody4bMBhr3sFjBRSMtPKerrzBoUK7stNKBFvrA=s64",
      "userId": "03618971057838723327"
     },
     "user_tz": -330
    },
    "id": "RcVcfgmjdqFJ",
    "outputId": "05034b36-9915-42c3-9a20-1d63f26b3c77"
   },
   "outputs": [
    {
     "name": "stdout",
     "output_type": "stream",
     "text": [
      "a\n",
      "  key1 key2     data1     data2\n",
      "0    a  one -0.968738  0.993311\n",
      "1    a  two  0.016645  0.475349\n",
      "4    a  one -0.177876  0.723319\n",
      "b\n",
      "  key1 key2     data1     data2\n",
      "2    b  one  0.340494 -0.149166\n",
      "3    b  two  0.895487  0.945977\n"
     ]
    }
   ],
   "source": [
    "In [24]: for name, group in df.groupby('key1'):\n",
    "            print(name)\n",
    "            print(group)"
   ]
  },
  {
   "cell_type": "code",
   "execution_count": 16,
   "metadata": {
    "colab": {
     "base_uri": "https://localhost:8080/"
    },
    "executionInfo": {
     "elapsed": 2097,
     "status": "ok",
     "timestamp": 1609127874993,
     "user": {
      "displayName": "prathviraj shetty",
      "photoUrl": "https://lh3.googleusercontent.com/a-/AOh14GhKody4bMBhr3sFjBRSMtPKerrzBoUK7stNKBFvrA=s64",
      "userId": "03618971057838723327"
     },
     "user_tz": -330
    },
    "id": "gKEkAnhSfNlT",
    "outputId": "be99b3e1-8f55-4124-8480-eed4509181a1"
   },
   "outputs": [
    {
     "name": "stdout",
     "output_type": "stream",
     "text": [
      "('a', 'one')\n",
      "  key1 key2     data1     data2\n",
      "0    a  one -0.968738  0.993311\n",
      "4    a  one -0.177876  0.723319\n",
      "('a', 'two')\n",
      "  key1 key2     data1     data2\n",
      "1    a  two  0.016645  0.475349\n",
      "('b', 'one')\n",
      "  key1 key2     data1     data2\n",
      "2    b  one  0.340494 -0.149166\n",
      "('b', 'two')\n",
      "  key1 key2     data1     data2\n",
      "3    b  two  0.895487  0.945977\n"
     ]
    }
   ],
   "source": [
    "In [25]: for (k1, k2), group in df.groupby(['key1', 'key2']):\n",
    "              print((k1, k2))\n",
    "              print(group)"
   ]
  },
  {
   "cell_type": "code",
   "execution_count": 17,
   "metadata": {
    "colab": {
     "base_uri": "https://localhost:8080/",
     "height": 111
    },
    "executionInfo": {
     "elapsed": 1126,
     "status": "ok",
     "timestamp": 1609127969637,
     "user": {
      "displayName": "prathviraj shetty",
      "photoUrl": "https://lh3.googleusercontent.com/a-/AOh14GhKody4bMBhr3sFjBRSMtPKerrzBoUK7stNKBFvrA=s64",
      "userId": "03618971057838723327"
     },
     "user_tz": -330
    },
    "id": "kOwe8PoXoL-p",
    "outputId": "6ccac217-ddf9-4483-c02e-56cd1a1c1d19"
   },
   "outputs": [
    {
     "data": {
      "text/html": [
       "<div>\n",
       "<style scoped>\n",
       "    .dataframe tbody tr th:only-of-type {\n",
       "        vertical-align: middle;\n",
       "    }\n",
       "\n",
       "    .dataframe tbody tr th {\n",
       "        vertical-align: top;\n",
       "    }\n",
       "\n",
       "    .dataframe thead th {\n",
       "        text-align: right;\n",
       "    }\n",
       "</style>\n",
       "<table border=\"1\" class=\"dataframe\">\n",
       "  <thead>\n",
       "    <tr style=\"text-align: right;\">\n",
       "      <th></th>\n",
       "      <th>key1</th>\n",
       "      <th>key2</th>\n",
       "      <th>data1</th>\n",
       "      <th>data2</th>\n",
       "    </tr>\n",
       "  </thead>\n",
       "  <tbody>\n",
       "    <tr>\n",
       "      <th>2</th>\n",
       "      <td>b</td>\n",
       "      <td>one</td>\n",
       "      <td>0.340494</td>\n",
       "      <td>-0.149166</td>\n",
       "    </tr>\n",
       "    <tr>\n",
       "      <th>3</th>\n",
       "      <td>b</td>\n",
       "      <td>two</td>\n",
       "      <td>0.895487</td>\n",
       "      <td>0.945977</td>\n",
       "    </tr>\n",
       "  </tbody>\n",
       "</table>\n",
       "</div>"
      ],
      "text/plain": [
       "  key1 key2     data1     data2\n",
       "2    b  one  0.340494 -0.149166\n",
       "3    b  two  0.895487  0.945977"
      ]
     },
     "execution_count": 17,
     "metadata": {
      "tags": []
     },
     "output_type": "execute_result"
    }
   ],
   "source": [
    "In [26]: pieces = dict(list(df.groupby('key1')))\n",
    "In [27]: pieces['b']"
   ]
  },
  {
   "cell_type": "code",
   "execution_count": 18,
   "metadata": {
    "colab": {
     "base_uri": "https://localhost:8080/"
    },
    "executionInfo": {
     "elapsed": 1113,
     "status": "ok",
     "timestamp": 1609128024224,
     "user": {
      "displayName": "prathviraj shetty",
      "photoUrl": "https://lh3.googleusercontent.com/a-/AOh14GhKody4bMBhr3sFjBRSMtPKerrzBoUK7stNKBFvrA=s64",
      "userId": "03618971057838723327"
     },
     "user_tz": -330
    },
    "id": "XPUn-pWfoZpa",
    "outputId": "44d27b58-585b-48d0-c864-113909680dcb"
   },
   "outputs": [
    {
     "data": {
      "text/plain": [
       "key1      object\n",
       "key2      object\n",
       "data1    float64\n",
       "data2    float64\n",
       "dtype: object"
      ]
     },
     "execution_count": 18,
     "metadata": {
      "tags": []
     },
     "output_type": "execute_result"
    }
   ],
   "source": [
    "In [28]: df.dtypes"
   ]
  },
  {
   "cell_type": "code",
   "execution_count": 21,
   "metadata": {
    "colab": {
     "base_uri": "https://localhost:8080/"
    },
    "executionInfo": {
     "elapsed": 1129,
     "status": "ok",
     "timestamp": 1609128106199,
     "user": {
      "displayName": "prathviraj shetty",
      "photoUrl": "https://lh3.googleusercontent.com/a-/AOh14GhKody4bMBhr3sFjBRSMtPKerrzBoUK7stNKBFvrA=s64",
      "userId": "03618971057838723327"
     },
     "user_tz": -330
    },
    "id": "8OW__IumokJ7",
    "outputId": "8a7d4d9d-0299-49c2-be9e-e49011d90b32"
   },
   "outputs": [
    {
     "data": {
      "text/plain": [
       "<pandas.core.groupby.generic.DataFrameGroupBy object at 0x7f9931b78b00>"
      ]
     },
     "execution_count": 21,
     "metadata": {
      "tags": []
     },
     "output_type": "execute_result"
    }
   ],
   "source": [
    "In [29]: grouped = df.groupby(df.dtypes, axis=1)\n",
    "grouped"
   ]
  },
  {
   "cell_type": "code",
   "execution_count": 22,
   "metadata": {
    "colab": {
     "base_uri": "https://localhost:8080/"
    },
    "executionInfo": {
     "elapsed": 1126,
     "status": "ok",
     "timestamp": 1609128129209,
     "user": {
      "displayName": "prathviraj shetty",
      "photoUrl": "https://lh3.googleusercontent.com/a-/AOh14GhKody4bMBhr3sFjBRSMtPKerrzBoUK7stNKBFvrA=s64",
      "userId": "03618971057838723327"
     },
     "user_tz": -330
    },
    "id": "MQVY2Yv3o6Kb",
    "outputId": "58b625ca-8b54-4860-c42e-36851f7a196d"
   },
   "outputs": [
    {
     "name": "stdout",
     "output_type": "stream",
     "text": [
      "float64\n",
      "      data1     data2\n",
      "0 -0.968738  0.993311\n",
      "1  0.016645  0.475349\n",
      "2  0.340494 -0.149166\n",
      "3  0.895487  0.945977\n",
      "4 -0.177876  0.723319\n",
      "object\n",
      "  key1 key2\n",
      "0    a  one\n",
      "1    a  two\n",
      "2    b  one\n",
      "3    b  two\n",
      "4    a  one\n"
     ]
    }
   ],
   "source": [
    "In [30]: for dtype, group in grouped:\n",
    "....:      print(dtype)\n",
    "....:      print(group)\n",
    "....:"
   ]
  },
  {
   "cell_type": "markdown",
   "metadata": {
    "id": "JE30o9lOpGPo"
   },
   "source": [
    "**Selecting a Column or Subset of Columns**"
   ]
  },
  {
   "cell_type": "code",
   "execution_count": 3,
   "metadata": {
    "colab": {
     "base_uri": "https://localhost:8080/",
     "height": 204
    },
    "executionInfo": {
     "elapsed": 1207,
     "status": "ok",
     "timestamp": 1609472379772,
     "user": {
      "displayName": "prathviraj shetty",
      "photoUrl": "https://lh3.googleusercontent.com/a-/AOh14GhKody4bMBhr3sFjBRSMtPKerrzBoUK7stNKBFvrA=s64",
      "userId": "03618971057838723327"
     },
     "user_tz": -330
    },
    "id": "W8E06nGwpIYn",
    "outputId": "cae78e57-7ee4-4a06-8769-9d5b3268bbf9"
   },
   "outputs": [
    {
     "data": {
      "text/html": [
       "<div>\n",
       "<style scoped>\n",
       "    .dataframe tbody tr th:only-of-type {\n",
       "        vertical-align: middle;\n",
       "    }\n",
       "\n",
       "    .dataframe tbody tr th {\n",
       "        vertical-align: top;\n",
       "    }\n",
       "\n",
       "    .dataframe thead th {\n",
       "        text-align: right;\n",
       "    }\n",
       "</style>\n",
       "<table border=\"1\" class=\"dataframe\">\n",
       "  <thead>\n",
       "    <tr style=\"text-align: right;\">\n",
       "      <th></th>\n",
       "      <th>a</th>\n",
       "      <th>b</th>\n",
       "      <th>c</th>\n",
       "      <th>d</th>\n",
       "      <th>e</th>\n",
       "    </tr>\n",
       "  </thead>\n",
       "  <tbody>\n",
       "    <tr>\n",
       "      <th>Joe</th>\n",
       "      <td>0.777215</td>\n",
       "      <td>-1.026809</td>\n",
       "      <td>0.424430</td>\n",
       "      <td>-0.754204</td>\n",
       "      <td>-0.827794</td>\n",
       "    </tr>\n",
       "    <tr>\n",
       "      <th>Steve</th>\n",
       "      <td>1.730370</td>\n",
       "      <td>-0.313633</td>\n",
       "      <td>0.792021</td>\n",
       "      <td>-0.304843</td>\n",
       "      <td>-0.394003</td>\n",
       "    </tr>\n",
       "    <tr>\n",
       "      <th>Wes</th>\n",
       "      <td>-0.286294</td>\n",
       "      <td>NaN</td>\n",
       "      <td>NaN</td>\n",
       "      <td>1.512097</td>\n",
       "      <td>0.538304</td>\n",
       "    </tr>\n",
       "    <tr>\n",
       "      <th>Jim</th>\n",
       "      <td>-0.349600</td>\n",
       "      <td>-0.216453</td>\n",
       "      <td>-0.821539</td>\n",
       "      <td>-0.148407</td>\n",
       "      <td>-0.691319</td>\n",
       "    </tr>\n",
       "    <tr>\n",
       "      <th>Travis</th>\n",
       "      <td>-2.857388</td>\n",
       "      <td>0.980405</td>\n",
       "      <td>0.683356</td>\n",
       "      <td>0.743843</td>\n",
       "      <td>0.779444</td>\n",
       "    </tr>\n",
       "  </tbody>\n",
       "</table>\n",
       "</div>"
      ],
      "text/plain": [
       "               a         b         c         d         e\n",
       "Joe     0.777215 -1.026809  0.424430 -0.754204 -0.827794\n",
       "Steve   1.730370 -0.313633  0.792021 -0.304843 -0.394003\n",
       "Wes    -0.286294       NaN       NaN  1.512097  0.538304\n",
       "Jim    -0.349600 -0.216453 -0.821539 -0.148407 -0.691319\n",
       "Travis -2.857388  0.980405  0.683356  0.743843  0.779444"
      ]
     },
     "execution_count": 3,
     "metadata": {
      "tags": []
     },
     "output_type": "execute_result"
    }
   ],
   "source": [
    "In [35]: people = pd.DataFrame(np.random.randn(5, 5),\n",
    "....:    columns=['a', 'b', 'c', 'd', 'e'],\n",
    "....:    index=['Joe', 'Steve', 'Wes', 'Jim', 'Travis'])\n",
    "In [36]: people.iloc[2:3, [1, 2]] = np.nan # Add a few NA values\n",
    "In [37]: people\n"
   ]
  },
  {
   "cell_type": "code",
   "execution_count": 4,
   "metadata": {
    "executionInfo": {
     "elapsed": 1129,
     "status": "ok",
     "timestamp": 1609472409926,
     "user": {
      "displayName": "prathviraj shetty",
      "photoUrl": "https://lh3.googleusercontent.com/a-/AOh14GhKody4bMBhr3sFjBRSMtPKerrzBoUK7stNKBFvrA=s64",
      "userId": "03618971057838723327"
     },
     "user_tz": -330
    },
    "id": "NUCuAUGUo_1T"
   },
   "outputs": [],
   "source": [
    "In [38]: mapping = {'a': 'red', 'b': 'red', 'c': 'blue', 'd': 'blue', 'e': 'red', 'f' : 'orange'}"
   ]
  },
  {
   "cell_type": "code",
   "execution_count": 5,
   "metadata": {
    "colab": {
     "base_uri": "https://localhost:8080/",
     "height": 204
    },
    "executionInfo": {
     "elapsed": 1174,
     "status": "ok",
     "timestamp": 1609472462448,
     "user": {
      "displayName": "prathviraj shetty",
      "photoUrl": "https://lh3.googleusercontent.com/a-/AOh14GhKody4bMBhr3sFjBRSMtPKerrzBoUK7stNKBFvrA=s64",
      "userId": "03618971057838723327"
     },
     "user_tz": -330
    },
    "id": "oFTYW3ZFvAuz",
    "outputId": "3d891185-eab5-4730-a671-befb96a09d96"
   },
   "outputs": [
    {
     "data": {
      "text/html": [
       "<div>\n",
       "<style scoped>\n",
       "    .dataframe tbody tr th:only-of-type {\n",
       "        vertical-align: middle;\n",
       "    }\n",
       "\n",
       "    .dataframe tbody tr th {\n",
       "        vertical-align: top;\n",
       "    }\n",
       "\n",
       "    .dataframe thead th {\n",
       "        text-align: right;\n",
       "    }\n",
       "</style>\n",
       "<table border=\"1\" class=\"dataframe\">\n",
       "  <thead>\n",
       "    <tr style=\"text-align: right;\">\n",
       "      <th></th>\n",
       "      <th>blue</th>\n",
       "      <th>red</th>\n",
       "    </tr>\n",
       "  </thead>\n",
       "  <tbody>\n",
       "    <tr>\n",
       "      <th>Joe</th>\n",
       "      <td>-0.329773</td>\n",
       "      <td>-1.077387</td>\n",
       "    </tr>\n",
       "    <tr>\n",
       "      <th>Steve</th>\n",
       "      <td>0.487178</td>\n",
       "      <td>1.022734</td>\n",
       "    </tr>\n",
       "    <tr>\n",
       "      <th>Wes</th>\n",
       "      <td>1.512097</td>\n",
       "      <td>0.252010</td>\n",
       "    </tr>\n",
       "    <tr>\n",
       "      <th>Jim</th>\n",
       "      <td>-0.969946</td>\n",
       "      <td>-1.257372</td>\n",
       "    </tr>\n",
       "    <tr>\n",
       "      <th>Travis</th>\n",
       "      <td>1.427198</td>\n",
       "      <td>-1.097540</td>\n",
       "    </tr>\n",
       "  </tbody>\n",
       "</table>\n",
       "</div>"
      ],
      "text/plain": [
       "            blue       red\n",
       "Joe    -0.329773 -1.077387\n",
       "Steve   0.487178  1.022734\n",
       "Wes     1.512097  0.252010\n",
       "Jim    -0.969946 -1.257372\n",
       "Travis  1.427198 -1.097540"
      ]
     },
     "execution_count": 5,
     "metadata": {
      "tags": []
     },
     "output_type": "execute_result"
    }
   ],
   "source": [
    "In [39]: by_column = people.groupby(mapping, axis=1)\n",
    "In [40]: by_column.sum()"
   ]
  },
  {
   "cell_type": "code",
   "execution_count": 6,
   "metadata": {
    "colab": {
     "base_uri": "https://localhost:8080/"
    },
    "executionInfo": {
     "elapsed": 1141,
     "status": "ok",
     "timestamp": 1609472609599,
     "user": {
      "displayName": "prathviraj shetty",
      "photoUrl": "https://lh3.googleusercontent.com/a-/AOh14GhKody4bMBhr3sFjBRSMtPKerrzBoUK7stNKBFvrA=s64",
      "userId": "03618971057838723327"
     },
     "user_tz": -330
    },
    "id": "K_XGkaW3va4M",
    "outputId": "16d0d1f6-954e-47aa-b015-f51396ba3426"
   },
   "outputs": [
    {
     "data": {
      "text/plain": [
       "a       red\n",
       "b       red\n",
       "c      blue\n",
       "d      blue\n",
       "e       red\n",
       "f    orange\n",
       "dtype: object"
      ]
     },
     "execution_count": 6,
     "metadata": {
      "tags": []
     },
     "output_type": "execute_result"
    }
   ],
   "source": [
    "In [41]: map_series = pd.Series(mapping)\n",
    "In [42]: map_series"
   ]
  },
  {
   "cell_type": "code",
   "execution_count": 7,
   "metadata": {
    "colab": {
     "base_uri": "https://localhost:8080/",
     "height": 204
    },
    "executionInfo": {
     "elapsed": 1176,
     "status": "ok",
     "timestamp": 1609472674773,
     "user": {
      "displayName": "prathviraj shetty",
      "photoUrl": "https://lh3.googleusercontent.com/a-/AOh14GhKody4bMBhr3sFjBRSMtPKerrzBoUK7stNKBFvrA=s64",
      "userId": "03618971057838723327"
     },
     "user_tz": -330
    },
    "id": "Dn86IDCOvkyY",
    "outputId": "f1d53958-f020-4534-b47c-89909240f984"
   },
   "outputs": [
    {
     "data": {
      "text/html": [
       "<div>\n",
       "<style scoped>\n",
       "    .dataframe tbody tr th:only-of-type {\n",
       "        vertical-align: middle;\n",
       "    }\n",
       "\n",
       "    .dataframe tbody tr th {\n",
       "        vertical-align: top;\n",
       "    }\n",
       "\n",
       "    .dataframe thead th {\n",
       "        text-align: right;\n",
       "    }\n",
       "</style>\n",
       "<table border=\"1\" class=\"dataframe\">\n",
       "  <thead>\n",
       "    <tr style=\"text-align: right;\">\n",
       "      <th></th>\n",
       "      <th>blue</th>\n",
       "      <th>red</th>\n",
       "    </tr>\n",
       "  </thead>\n",
       "  <tbody>\n",
       "    <tr>\n",
       "      <th>Joe</th>\n",
       "      <td>2</td>\n",
       "      <td>3</td>\n",
       "    </tr>\n",
       "    <tr>\n",
       "      <th>Steve</th>\n",
       "      <td>2</td>\n",
       "      <td>3</td>\n",
       "    </tr>\n",
       "    <tr>\n",
       "      <th>Wes</th>\n",
       "      <td>1</td>\n",
       "      <td>2</td>\n",
       "    </tr>\n",
       "    <tr>\n",
       "      <th>Jim</th>\n",
       "      <td>2</td>\n",
       "      <td>3</td>\n",
       "    </tr>\n",
       "    <tr>\n",
       "      <th>Travis</th>\n",
       "      <td>2</td>\n",
       "      <td>3</td>\n",
       "    </tr>\n",
       "  </tbody>\n",
       "</table>\n",
       "</div>"
      ],
      "text/plain": [
       "        blue  red\n",
       "Joe        2    3\n",
       "Steve      2    3\n",
       "Wes        1    2\n",
       "Jim        2    3\n",
       "Travis     2    3"
      ]
     },
     "execution_count": 7,
     "metadata": {
      "tags": []
     },
     "output_type": "execute_result"
    }
   ],
   "source": [
    "In [43]: people.groupby(map_series, axis=1).count()"
   ]
  },
  {
   "cell_type": "markdown",
   "metadata": {
    "id": "Vcnk9BKEvnZU"
   },
   "source": [
    "**Grouping with Functions**"
   ]
  },
  {
   "cell_type": "code",
   "execution_count": 8,
   "metadata": {
    "colab": {
     "base_uri": "https://localhost:8080/",
     "height": 142
    },
    "executionInfo": {
     "elapsed": 1142,
     "status": "ok",
     "timestamp": 1609472726682,
     "user": {
      "displayName": "prathviraj shetty",
      "photoUrl": "https://lh3.googleusercontent.com/a-/AOh14GhKody4bMBhr3sFjBRSMtPKerrzBoUK7stNKBFvrA=s64",
      "userId": "03618971057838723327"
     },
     "user_tz": -330
    },
    "id": "3lgRlPlCvtEl",
    "outputId": "a555b45b-10fd-44c3-9b05-c33c10407588"
   },
   "outputs": [
    {
     "data": {
      "text/html": [
       "<div>\n",
       "<style scoped>\n",
       "    .dataframe tbody tr th:only-of-type {\n",
       "        vertical-align: middle;\n",
       "    }\n",
       "\n",
       "    .dataframe tbody tr th {\n",
       "        vertical-align: top;\n",
       "    }\n",
       "\n",
       "    .dataframe thead th {\n",
       "        text-align: right;\n",
       "    }\n",
       "</style>\n",
       "<table border=\"1\" class=\"dataframe\">\n",
       "  <thead>\n",
       "    <tr style=\"text-align: right;\">\n",
       "      <th></th>\n",
       "      <th>a</th>\n",
       "      <th>b</th>\n",
       "      <th>c</th>\n",
       "      <th>d</th>\n",
       "      <th>e</th>\n",
       "    </tr>\n",
       "  </thead>\n",
       "  <tbody>\n",
       "    <tr>\n",
       "      <th>3</th>\n",
       "      <td>0.141322</td>\n",
       "      <td>-1.243262</td>\n",
       "      <td>-0.397109</td>\n",
       "      <td>0.609486</td>\n",
       "      <td>-0.980809</td>\n",
       "    </tr>\n",
       "    <tr>\n",
       "      <th>5</th>\n",
       "      <td>1.730370</td>\n",
       "      <td>-0.313633</td>\n",
       "      <td>0.792021</td>\n",
       "      <td>-0.304843</td>\n",
       "      <td>-0.394003</td>\n",
       "    </tr>\n",
       "    <tr>\n",
       "      <th>6</th>\n",
       "      <td>-2.857388</td>\n",
       "      <td>0.980405</td>\n",
       "      <td>0.683356</td>\n",
       "      <td>0.743843</td>\n",
       "      <td>0.779444</td>\n",
       "    </tr>\n",
       "  </tbody>\n",
       "</table>\n",
       "</div>"
      ],
      "text/plain": [
       "          a         b         c         d         e\n",
       "3  0.141322 -1.243262 -0.397109  0.609486 -0.980809\n",
       "5  1.730370 -0.313633  0.792021 -0.304843 -0.394003\n",
       "6 -2.857388  0.980405  0.683356  0.743843  0.779444"
      ]
     },
     "execution_count": 8,
     "metadata": {
      "tags": []
     },
     "output_type": "execute_result"
    }
   ],
   "source": [
    "In [44]: people.groupby(len).sum()"
   ]
  },
  {
   "cell_type": "code",
   "execution_count": 9,
   "metadata": {
    "colab": {
     "base_uri": "https://localhost:8080/",
     "height": 173
    },
    "executionInfo": {
     "elapsed": 1210,
     "status": "ok",
     "timestamp": 1609472917511,
     "user": {
      "displayName": "prathviraj shetty",
      "photoUrl": "https://lh3.googleusercontent.com/a-/AOh14GhKody4bMBhr3sFjBRSMtPKerrzBoUK7stNKBFvrA=s64",
      "userId": "03618971057838723327"
     },
     "user_tz": -330
    },
    "id": "MIMetxxZv1cg",
    "outputId": "e69b0dbc-f694-4998-fa91-e65d9a0effee"
   },
   "outputs": [
    {
     "data": {
      "text/html": [
       "<div>\n",
       "<style scoped>\n",
       "    .dataframe tbody tr th:only-of-type {\n",
       "        vertical-align: middle;\n",
       "    }\n",
       "\n",
       "    .dataframe tbody tr th {\n",
       "        vertical-align: top;\n",
       "    }\n",
       "\n",
       "    .dataframe thead th {\n",
       "        text-align: right;\n",
       "    }\n",
       "</style>\n",
       "<table border=\"1\" class=\"dataframe\">\n",
       "  <thead>\n",
       "    <tr style=\"text-align: right;\">\n",
       "      <th></th>\n",
       "      <th></th>\n",
       "      <th>a</th>\n",
       "      <th>b</th>\n",
       "      <th>c</th>\n",
       "      <th>d</th>\n",
       "      <th>e</th>\n",
       "    </tr>\n",
       "  </thead>\n",
       "  <tbody>\n",
       "    <tr>\n",
       "      <th rowspan=\"2\" valign=\"top\">3</th>\n",
       "      <th>one</th>\n",
       "      <td>-0.286294</td>\n",
       "      <td>-1.026809</td>\n",
       "      <td>0.424430</td>\n",
       "      <td>-0.754204</td>\n",
       "      <td>-0.827794</td>\n",
       "    </tr>\n",
       "    <tr>\n",
       "      <th>two</th>\n",
       "      <td>-0.349600</td>\n",
       "      <td>-0.216453</td>\n",
       "      <td>-0.821539</td>\n",
       "      <td>-0.148407</td>\n",
       "      <td>-0.691319</td>\n",
       "    </tr>\n",
       "    <tr>\n",
       "      <th>5</th>\n",
       "      <th>one</th>\n",
       "      <td>1.730370</td>\n",
       "      <td>-0.313633</td>\n",
       "      <td>0.792021</td>\n",
       "      <td>-0.304843</td>\n",
       "      <td>-0.394003</td>\n",
       "    </tr>\n",
       "    <tr>\n",
       "      <th>6</th>\n",
       "      <th>two</th>\n",
       "      <td>-2.857388</td>\n",
       "      <td>0.980405</td>\n",
       "      <td>0.683356</td>\n",
       "      <td>0.743843</td>\n",
       "      <td>0.779444</td>\n",
       "    </tr>\n",
       "  </tbody>\n",
       "</table>\n",
       "</div>"
      ],
      "text/plain": [
       "              a         b         c         d         e\n",
       "3 one -0.286294 -1.026809  0.424430 -0.754204 -0.827794\n",
       "  two -0.349600 -0.216453 -0.821539 -0.148407 -0.691319\n",
       "5 one  1.730370 -0.313633  0.792021 -0.304843 -0.394003\n",
       "6 two -2.857388  0.980405  0.683356  0.743843  0.779444"
      ]
     },
     "execution_count": 9,
     "metadata": {
      "tags": []
     },
     "output_type": "execute_result"
    }
   ],
   "source": [
    "In [45]: key_list = ['one', 'one', 'one', 'two', 'two']\n",
    "In [46]: people.groupby([len, key_list]).min()"
   ]
  },
  {
   "cell_type": "markdown",
   "metadata": {
    "id": "I2CgN6EpwPT6"
   },
   "source": [
    "**Grouping by Index Levels**"
   ]
  },
  {
   "cell_type": "code",
   "execution_count": 10,
   "metadata": {
    "colab": {
     "base_uri": "https://localhost:8080/",
     "height": 204
    },
    "executionInfo": {
     "elapsed": 1180,
     "status": "ok",
     "timestamp": 1609473125106,
     "user": {
      "displayName": "prathviraj shetty",
      "photoUrl": "https://lh3.googleusercontent.com/a-/AOh14GhKody4bMBhr3sFjBRSMtPKerrzBoUK7stNKBFvrA=s64",
      "userId": "03618971057838723327"
     },
     "user_tz": -330
    },
    "id": "BaqpN-YswRTv",
    "outputId": "9097573c-bff2-4a8e-d367-098ed4091336"
   },
   "outputs": [
    {
     "data": {
      "text/html": [
       "<div>\n",
       "<style scoped>\n",
       "    .dataframe tbody tr th:only-of-type {\n",
       "        vertical-align: middle;\n",
       "    }\n",
       "\n",
       "    .dataframe tbody tr th {\n",
       "        vertical-align: top;\n",
       "    }\n",
       "\n",
       "    .dataframe thead tr th {\n",
       "        text-align: left;\n",
       "    }\n",
       "</style>\n",
       "<table border=\"1\" class=\"dataframe\">\n",
       "  <thead>\n",
       "    <tr>\n",
       "      <th>cty</th>\n",
       "      <th colspan=\"3\" halign=\"left\">US</th>\n",
       "      <th colspan=\"2\" halign=\"left\">JP</th>\n",
       "    </tr>\n",
       "    <tr>\n",
       "      <th>tenor</th>\n",
       "      <th>1</th>\n",
       "      <th>3</th>\n",
       "      <th>5</th>\n",
       "      <th>1</th>\n",
       "      <th>3</th>\n",
       "    </tr>\n",
       "  </thead>\n",
       "  <tbody>\n",
       "    <tr>\n",
       "      <th>0</th>\n",
       "      <td>1.479513</td>\n",
       "      <td>-1.316179</td>\n",
       "      <td>0.038301</td>\n",
       "      <td>1.372888</td>\n",
       "      <td>1.162746</td>\n",
       "    </tr>\n",
       "    <tr>\n",
       "      <th>1</th>\n",
       "      <td>-0.255851</td>\n",
       "      <td>-0.076422</td>\n",
       "      <td>0.157403</td>\n",
       "      <td>0.752023</td>\n",
       "      <td>0.020871</td>\n",
       "    </tr>\n",
       "    <tr>\n",
       "      <th>2</th>\n",
       "      <td>-0.217075</td>\n",
       "      <td>-0.373315</td>\n",
       "      <td>-0.225237</td>\n",
       "      <td>1.736880</td>\n",
       "      <td>-0.430735</td>\n",
       "    </tr>\n",
       "    <tr>\n",
       "      <th>3</th>\n",
       "      <td>-0.485730</td>\n",
       "      <td>0.926083</td>\n",
       "      <td>-0.748173</td>\n",
       "      <td>0.593308</td>\n",
       "      <td>-0.186148</td>\n",
       "    </tr>\n",
       "  </tbody>\n",
       "</table>\n",
       "</div>"
      ],
      "text/plain": [
       "cty          US                            JP          \n",
       "tenor         1         3         5         1         3\n",
       "0      1.479513 -1.316179  0.038301  1.372888  1.162746\n",
       "1     -0.255851 -0.076422  0.157403  0.752023  0.020871\n",
       "2     -0.217075 -0.373315 -0.225237  1.736880 -0.430735\n",
       "3     -0.485730  0.926083 -0.748173  0.593308 -0.186148"
      ]
     },
     "execution_count": 10,
     "metadata": {
      "tags": []
     },
     "output_type": "execute_result"
    }
   ],
   "source": [
    "In [47]: columns = pd.MultiIndex.from_arrays([['US', 'US', 'US', 'JP', 'JP'], [1, 3, 5, 1, 3]], names=['cty', 'tenor'])\n",
    "In [48]: hier_df = pd.DataFrame(np.random.randn(4, 5), columns=columns)\n",
    "In [49]: hier_df"
   ]
  },
  {
   "cell_type": "code",
   "execution_count": 11,
   "metadata": {
    "colab": {
     "base_uri": "https://localhost:8080/",
     "height": 173
    },
    "executionInfo": {
     "elapsed": 2181,
     "status": "ok",
     "timestamp": 1609473226807,
     "user": {
      "displayName": "prathviraj shetty",
      "photoUrl": "https://lh3.googleusercontent.com/a-/AOh14GhKody4bMBhr3sFjBRSMtPKerrzBoUK7stNKBFvrA=s64",
      "userId": "03618971057838723327"
     },
     "user_tz": -330
    },
    "id": "BeSSlX4IwyKz",
    "outputId": "09aa23d2-b01d-4213-9d3d-323a3fb7132d"
   },
   "outputs": [
    {
     "data": {
      "text/html": [
       "<div>\n",
       "<style scoped>\n",
       "    .dataframe tbody tr th:only-of-type {\n",
       "        vertical-align: middle;\n",
       "    }\n",
       "\n",
       "    .dataframe tbody tr th {\n",
       "        vertical-align: top;\n",
       "    }\n",
       "\n",
       "    .dataframe thead th {\n",
       "        text-align: right;\n",
       "    }\n",
       "</style>\n",
       "<table border=\"1\" class=\"dataframe\">\n",
       "  <thead>\n",
       "    <tr style=\"text-align: right;\">\n",
       "      <th>cty</th>\n",
       "      <th>JP</th>\n",
       "      <th>US</th>\n",
       "    </tr>\n",
       "  </thead>\n",
       "  <tbody>\n",
       "    <tr>\n",
       "      <th>0</th>\n",
       "      <td>2</td>\n",
       "      <td>3</td>\n",
       "    </tr>\n",
       "    <tr>\n",
       "      <th>1</th>\n",
       "      <td>2</td>\n",
       "      <td>3</td>\n",
       "    </tr>\n",
       "    <tr>\n",
       "      <th>2</th>\n",
       "      <td>2</td>\n",
       "      <td>3</td>\n",
       "    </tr>\n",
       "    <tr>\n",
       "      <th>3</th>\n",
       "      <td>2</td>\n",
       "      <td>3</td>\n",
       "    </tr>\n",
       "  </tbody>\n",
       "</table>\n",
       "</div>"
      ],
      "text/plain": [
       "cty  JP  US\n",
       "0     2   3\n",
       "1     2   3\n",
       "2     2   3\n",
       "3     2   3"
      ]
     },
     "execution_count": 11,
     "metadata": {
      "tags": []
     },
     "output_type": "execute_result"
    }
   ],
   "source": [
    "In [50]: hier_df.groupby(level='cty', axis=1).count()"
   ]
  },
  {
   "cell_type": "markdown",
   "metadata": {
    "id": "VhVt440-w9kT"
   },
   "source": [
    "**Data Aggregation**"
   ]
  },
  {
   "cell_type": "code",
   "execution_count": 14,
   "metadata": {
    "colab": {
     "base_uri": "https://localhost:8080/",
     "height": 204
    },
    "executionInfo": {
     "elapsed": 2137,
     "status": "ok",
     "timestamp": 1609473310369,
     "user": {
      "displayName": "prathviraj shetty",
      "photoUrl": "https://lh3.googleusercontent.com/a-/AOh14GhKody4bMBhr3sFjBRSMtPKerrzBoUK7stNKBFvrA=s64",
      "userId": "03618971057838723327"
     },
     "user_tz": -330
    },
    "id": "VW575WrkxDbW",
    "outputId": "7464b5b5-68ea-4499-daec-ee7ec62f152d"
   },
   "outputs": [
    {
     "data": {
      "text/html": [
       "<div>\n",
       "<style scoped>\n",
       "    .dataframe tbody tr th:only-of-type {\n",
       "        vertical-align: middle;\n",
       "    }\n",
       "\n",
       "    .dataframe tbody tr th {\n",
       "        vertical-align: top;\n",
       "    }\n",
       "\n",
       "    .dataframe thead th {\n",
       "        text-align: right;\n",
       "    }\n",
       "</style>\n",
       "<table border=\"1\" class=\"dataframe\">\n",
       "  <thead>\n",
       "    <tr style=\"text-align: right;\">\n",
       "      <th></th>\n",
       "      <th>key1</th>\n",
       "      <th>key2</th>\n",
       "      <th>data1</th>\n",
       "      <th>data2</th>\n",
       "    </tr>\n",
       "  </thead>\n",
       "  <tbody>\n",
       "    <tr>\n",
       "      <th>0</th>\n",
       "      <td>a</td>\n",
       "      <td>one</td>\n",
       "      <td>0.022212</td>\n",
       "      <td>0.555785</td>\n",
       "    </tr>\n",
       "    <tr>\n",
       "      <th>1</th>\n",
       "      <td>a</td>\n",
       "      <td>two</td>\n",
       "      <td>0.645846</td>\n",
       "      <td>2.091152</td>\n",
       "    </tr>\n",
       "    <tr>\n",
       "      <th>2</th>\n",
       "      <td>b</td>\n",
       "      <td>one</td>\n",
       "      <td>0.692301</td>\n",
       "      <td>0.252874</td>\n",
       "    </tr>\n",
       "    <tr>\n",
       "      <th>3</th>\n",
       "      <td>b</td>\n",
       "      <td>two</td>\n",
       "      <td>0.261721</td>\n",
       "      <td>-0.505822</td>\n",
       "    </tr>\n",
       "    <tr>\n",
       "      <th>4</th>\n",
       "      <td>a</td>\n",
       "      <td>one</td>\n",
       "      <td>-0.377385</td>\n",
       "      <td>-0.041419</td>\n",
       "    </tr>\n",
       "  </tbody>\n",
       "</table>\n",
       "</div>"
      ],
      "text/plain": [
       "  key1 key2     data1     data2\n",
       "0    a  one  0.022212  0.555785\n",
       "1    a  two  0.645846  2.091152\n",
       "2    b  one  0.692301  0.252874\n",
       "3    b  two  0.261721 -0.505822\n",
       "4    a  one -0.377385 -0.041419"
      ]
     },
     "execution_count": 14,
     "metadata": {
      "tags": []
     },
     "output_type": "execute_result"
    }
   ],
   "source": [
    "In [51]: df"
   ]
  },
  {
   "cell_type": "code",
   "execution_count": 15,
   "metadata": {
    "colab": {
     "base_uri": "https://localhost:8080/"
    },
    "executionInfo": {
     "elapsed": 1182,
     "status": "ok",
     "timestamp": 1609473364526,
     "user": {
      "displayName": "prathviraj shetty",
      "photoUrl": "https://lh3.googleusercontent.com/a-/AOh14GhKody4bMBhr3sFjBRSMtPKerrzBoUK7stNKBFvrA=s64",
      "userId": "03618971057838723327"
     },
     "user_tz": -330
    },
    "id": "51IogqfDx1CE",
    "outputId": "b4d2d1ab-8740-43b5-d493-45e9ed889bf2"
   },
   "outputs": [
    {
     "data": {
      "text/plain": [
       "key1\n",
       "a    0.521120\n",
       "b    0.649243\n",
       "Name: data1, dtype: float64"
      ]
     },
     "execution_count": 15,
     "metadata": {
      "tags": []
     },
     "output_type": "execute_result"
    }
   ],
   "source": [
    "In [52]: grouped = df.groupby('key1')\n",
    "In [53]: grouped['data1'].quantile(0.9)"
   ]
  },
  {
   "cell_type": "code",
   "execution_count": 16,
   "metadata": {
    "colab": {
     "base_uri": "https://localhost:8080/",
     "height": 142
    },
    "executionInfo": {
     "elapsed": 1198,
     "status": "ok",
     "timestamp": 1609473421626,
     "user": {
      "displayName": "prathviraj shetty",
      "photoUrl": "https://lh3.googleusercontent.com/a-/AOh14GhKody4bMBhr3sFjBRSMtPKerrzBoUK7stNKBFvrA=s64",
      "userId": "03618971057838723327"
     },
     "user_tz": -330
    },
    "id": "OHhIcAK9zT-i",
    "outputId": "65962bd1-c14b-443e-efc4-f1dcc71d1676"
   },
   "outputs": [
    {
     "data": {
      "text/html": [
       "<div>\n",
       "<style scoped>\n",
       "    .dataframe tbody tr th:only-of-type {\n",
       "        vertical-align: middle;\n",
       "    }\n",
       "\n",
       "    .dataframe tbody tr th {\n",
       "        vertical-align: top;\n",
       "    }\n",
       "\n",
       "    .dataframe thead th {\n",
       "        text-align: right;\n",
       "    }\n",
       "</style>\n",
       "<table border=\"1\" class=\"dataframe\">\n",
       "  <thead>\n",
       "    <tr style=\"text-align: right;\">\n",
       "      <th></th>\n",
       "      <th>data1</th>\n",
       "      <th>data2</th>\n",
       "    </tr>\n",
       "    <tr>\n",
       "      <th>key1</th>\n",
       "      <th></th>\n",
       "      <th></th>\n",
       "    </tr>\n",
       "  </thead>\n",
       "  <tbody>\n",
       "    <tr>\n",
       "      <th>a</th>\n",
       "      <td>1.023231</td>\n",
       "      <td>2.132571</td>\n",
       "    </tr>\n",
       "    <tr>\n",
       "      <th>b</th>\n",
       "      <td>0.430580</td>\n",
       "      <td>0.758697</td>\n",
       "    </tr>\n",
       "  </tbody>\n",
       "</table>\n",
       "</div>"
      ],
      "text/plain": [
       "         data1     data2\n",
       "key1                    \n",
       "a     1.023231  2.132571\n",
       "b     0.430580  0.758697"
      ]
     },
     "execution_count": 16,
     "metadata": {
      "tags": []
     },
     "output_type": "execute_result"
    }
   ],
   "source": [
    "In [54]: def peak_to_peak(arr):\n",
    "....:   return arr.max() - arr.min()\n",
    "In [55]: grouped.agg(peak_to_peak)"
   ]
  },
  {
   "cell_type": "markdown",
   "metadata": {
    "id": "a7M-CTafzvt6"
   },
   "source": [
    "**Column-Wise and Multiple Function Application**"
   ]
  },
  {
   "cell_type": "code",
   "execution_count": 17,
   "metadata": {
    "colab": {
     "base_uri": "https://localhost:8080/",
     "height": 235
    },
    "executionInfo": {
     "elapsed": 1198,
     "status": "ok",
     "timestamp": 1609473805545,
     "user": {
      "displayName": "prathviraj shetty",
      "photoUrl": "https://lh3.googleusercontent.com/a-/AOh14GhKody4bMBhr3sFjBRSMtPKerrzBoUK7stNKBFvrA=s64",
      "userId": "03618971057838723327"
     },
     "user_tz": -330
    },
    "id": "OOZM7bbMzx8H",
    "outputId": "8c3a83c2-f7d9-4e29-d11e-a9b8a4c71fa0"
   },
   "outputs": [
    {
     "data": {
      "text/html": [
       "<div>\n",
       "<style scoped>\n",
       "    .dataframe tbody tr th:only-of-type {\n",
       "        vertical-align: middle;\n",
       "    }\n",
       "\n",
       "    .dataframe tbody tr th {\n",
       "        vertical-align: top;\n",
       "    }\n",
       "\n",
       "    .dataframe thead th {\n",
       "        text-align: right;\n",
       "    }\n",
       "</style>\n",
       "<table border=\"1\" class=\"dataframe\">\n",
       "  <thead>\n",
       "    <tr style=\"text-align: right;\">\n",
       "      <th></th>\n",
       "      <th>Unnamed: 0</th>\n",
       "      <th>total_bill</th>\n",
       "      <th>tip</th>\n",
       "      <th>sex</th>\n",
       "      <th>smoker</th>\n",
       "      <th>day</th>\n",
       "      <th>time</th>\n",
       "      <th>size</th>\n",
       "      <th>tip_pct</th>\n",
       "    </tr>\n",
       "  </thead>\n",
       "  <tbody>\n",
       "    <tr>\n",
       "      <th>0</th>\n",
       "      <td>1</td>\n",
       "      <td>16.99</td>\n",
       "      <td>1.01</td>\n",
       "      <td>Female</td>\n",
       "      <td>No</td>\n",
       "      <td>Sun</td>\n",
       "      <td>Dinner</td>\n",
       "      <td>2</td>\n",
       "      <td>0.059447</td>\n",
       "    </tr>\n",
       "    <tr>\n",
       "      <th>1</th>\n",
       "      <td>2</td>\n",
       "      <td>10.34</td>\n",
       "      <td>1.66</td>\n",
       "      <td>Male</td>\n",
       "      <td>No</td>\n",
       "      <td>Sun</td>\n",
       "      <td>Dinner</td>\n",
       "      <td>3</td>\n",
       "      <td>0.160542</td>\n",
       "    </tr>\n",
       "    <tr>\n",
       "      <th>2</th>\n",
       "      <td>3</td>\n",
       "      <td>21.01</td>\n",
       "      <td>3.50</td>\n",
       "      <td>Male</td>\n",
       "      <td>No</td>\n",
       "      <td>Sun</td>\n",
       "      <td>Dinner</td>\n",
       "      <td>3</td>\n",
       "      <td>0.166587</td>\n",
       "    </tr>\n",
       "    <tr>\n",
       "      <th>3</th>\n",
       "      <td>4</td>\n",
       "      <td>23.68</td>\n",
       "      <td>3.31</td>\n",
       "      <td>Male</td>\n",
       "      <td>No</td>\n",
       "      <td>Sun</td>\n",
       "      <td>Dinner</td>\n",
       "      <td>2</td>\n",
       "      <td>0.139780</td>\n",
       "    </tr>\n",
       "    <tr>\n",
       "      <th>4</th>\n",
       "      <td>5</td>\n",
       "      <td>24.59</td>\n",
       "      <td>3.61</td>\n",
       "      <td>Female</td>\n",
       "      <td>No</td>\n",
       "      <td>Sun</td>\n",
       "      <td>Dinner</td>\n",
       "      <td>4</td>\n",
       "      <td>0.146808</td>\n",
       "    </tr>\n",
       "    <tr>\n",
       "      <th>5</th>\n",
       "      <td>6</td>\n",
       "      <td>25.29</td>\n",
       "      <td>4.71</td>\n",
       "      <td>Male</td>\n",
       "      <td>No</td>\n",
       "      <td>Sun</td>\n",
       "      <td>Dinner</td>\n",
       "      <td>4</td>\n",
       "      <td>0.186240</td>\n",
       "    </tr>\n",
       "  </tbody>\n",
       "</table>\n",
       "</div>"
      ],
      "text/plain": [
       "   Unnamed: 0  total_bill   tip     sex smoker  day    time  size   tip_pct\n",
       "0           1       16.99  1.01  Female     No  Sun  Dinner     2  0.059447\n",
       "1           2       10.34  1.66    Male     No  Sun  Dinner     3  0.160542\n",
       "2           3       21.01  3.50    Male     No  Sun  Dinner     3  0.166587\n",
       "3           4       23.68  3.31    Male     No  Sun  Dinner     2  0.139780\n",
       "4           5       24.59  3.61  Female     No  Sun  Dinner     4  0.146808\n",
       "5           6       25.29  4.71    Male     No  Sun  Dinner     4  0.186240"
      ]
     },
     "execution_count": 17,
     "metadata": {
      "tags": []
     },
     "output_type": "execute_result"
    }
   ],
   "source": [
    "In [57]: tips = pd.read_csv('tips.csv')\n",
    "# Add tip percentage of total bill\n",
    "In [58]: tips['tip_pct'] = tips['tip'] / tips['total_bill']\n",
    "In [59]: tips[:6]"
   ]
  },
  {
   "cell_type": "code",
   "execution_count": 18,
   "metadata": {
    "executionInfo": {
     "elapsed": 1123,
     "status": "ok",
     "timestamp": 1609473886302,
     "user": {
      "displayName": "prathviraj shetty",
      "photoUrl": "https://lh3.googleusercontent.com/a-/AOh14GhKody4bMBhr3sFjBRSMtPKerrzBoUK7stNKBFvrA=s64",
      "userId": "03618971057838723327"
     },
     "user_tz": -330
    },
    "id": "jUrG70M24g1f"
   },
   "outputs": [],
   "source": [
    "In [60]: grouped = tips.groupby(['day', 'smoker'])"
   ]
  },
  {
   "cell_type": "code",
   "execution_count": 19,
   "metadata": {
    "colab": {
     "base_uri": "https://localhost:8080/"
    },
    "executionInfo": {
     "elapsed": 1189,
     "status": "ok",
     "timestamp": 1609473911161,
     "user": {
      "displayName": "prathviraj shetty",
      "photoUrl": "https://lh3.googleusercontent.com/a-/AOh14GhKody4bMBhr3sFjBRSMtPKerrzBoUK7stNKBFvrA=s64",
      "userId": "03618971057838723327"
     },
     "user_tz": -330
    },
    "id": "HfkgAGTm4ufZ",
    "outputId": "38cb7a5a-1a1a-4c00-8cb7-d32112a5d3cd"
   },
   "outputs": [
    {
     "data": {
      "text/plain": [
       "day   smoker\n",
       "Fri   No        0.151650\n",
       "      Yes       0.174783\n",
       "Sat   No        0.158048\n",
       "      Yes       0.147906\n",
       "Sun   No        0.160113\n",
       "      Yes       0.187250\n",
       "Thur  No        0.160298\n",
       "      Yes       0.163863\n",
       "Name: tip_pct, dtype: float64"
      ]
     },
     "execution_count": 19,
     "metadata": {
      "tags": []
     },
     "output_type": "execute_result"
    }
   ],
   "source": [
    "In [61]: grouped_pct = grouped['tip_pct']\n",
    "In [62]: grouped_pct.agg('mean')"
   ]
  },
  {
   "cell_type": "code",
   "execution_count": 20,
   "metadata": {
    "colab": {
     "base_uri": "https://localhost:8080/",
     "height": 328
    },
    "executionInfo": {
     "elapsed": 1384,
     "status": "ok",
     "timestamp": 1609474010543,
     "user": {
      "displayName": "prathviraj shetty",
      "photoUrl": "https://lh3.googleusercontent.com/a-/AOh14GhKody4bMBhr3sFjBRSMtPKerrzBoUK7stNKBFvrA=s64",
      "userId": "03618971057838723327"
     },
     "user_tz": -330
    },
    "id": "d-nxpJLs5AKa",
    "outputId": "475daa2f-5435-4e93-cdd7-701c047fe0f8"
   },
   "outputs": [
    {
     "data": {
      "text/html": [
       "<div>\n",
       "<style scoped>\n",
       "    .dataframe tbody tr th:only-of-type {\n",
       "        vertical-align: middle;\n",
       "    }\n",
       "\n",
       "    .dataframe tbody tr th {\n",
       "        vertical-align: top;\n",
       "    }\n",
       "\n",
       "    .dataframe thead th {\n",
       "        text-align: right;\n",
       "    }\n",
       "</style>\n",
       "<table border=\"1\" class=\"dataframe\">\n",
       "  <thead>\n",
       "    <tr style=\"text-align: right;\">\n",
       "      <th></th>\n",
       "      <th></th>\n",
       "      <th>mean</th>\n",
       "      <th>std</th>\n",
       "      <th>peak_to_peak</th>\n",
       "    </tr>\n",
       "    <tr>\n",
       "      <th>day</th>\n",
       "      <th>smoker</th>\n",
       "      <th></th>\n",
       "      <th></th>\n",
       "      <th></th>\n",
       "    </tr>\n",
       "  </thead>\n",
       "  <tbody>\n",
       "    <tr>\n",
       "      <th rowspan=\"2\" valign=\"top\">Fri</th>\n",
       "      <th>No</th>\n",
       "      <td>0.151650</td>\n",
       "      <td>0.028123</td>\n",
       "      <td>0.067349</td>\n",
       "    </tr>\n",
       "    <tr>\n",
       "      <th>Yes</th>\n",
       "      <td>0.174783</td>\n",
       "      <td>0.051293</td>\n",
       "      <td>0.159925</td>\n",
       "    </tr>\n",
       "    <tr>\n",
       "      <th rowspan=\"2\" valign=\"top\">Sat</th>\n",
       "      <th>No</th>\n",
       "      <td>0.158048</td>\n",
       "      <td>0.039767</td>\n",
       "      <td>0.235193</td>\n",
       "    </tr>\n",
       "    <tr>\n",
       "      <th>Yes</th>\n",
       "      <td>0.147906</td>\n",
       "      <td>0.061375</td>\n",
       "      <td>0.290095</td>\n",
       "    </tr>\n",
       "    <tr>\n",
       "      <th rowspan=\"2\" valign=\"top\">Sun</th>\n",
       "      <th>No</th>\n",
       "      <td>0.160113</td>\n",
       "      <td>0.042347</td>\n",
       "      <td>0.193226</td>\n",
       "    </tr>\n",
       "    <tr>\n",
       "      <th>Yes</th>\n",
       "      <td>0.187250</td>\n",
       "      <td>0.154134</td>\n",
       "      <td>0.644685</td>\n",
       "    </tr>\n",
       "    <tr>\n",
       "      <th rowspan=\"2\" valign=\"top\">Thur</th>\n",
       "      <th>No</th>\n",
       "      <td>0.160298</td>\n",
       "      <td>0.038774</td>\n",
       "      <td>0.193350</td>\n",
       "    </tr>\n",
       "    <tr>\n",
       "      <th>Yes</th>\n",
       "      <td>0.163863</td>\n",
       "      <td>0.039389</td>\n",
       "      <td>0.151240</td>\n",
       "    </tr>\n",
       "  </tbody>\n",
       "</table>\n",
       "</div>"
      ],
      "text/plain": [
       "                 mean       std  peak_to_peak\n",
       "day  smoker                                  \n",
       "Fri  No      0.151650  0.028123      0.067349\n",
       "     Yes     0.174783  0.051293      0.159925\n",
       "Sat  No      0.158048  0.039767      0.235193\n",
       "     Yes     0.147906  0.061375      0.290095\n",
       "Sun  No      0.160113  0.042347      0.193226\n",
       "     Yes     0.187250  0.154134      0.644685\n",
       "Thur No      0.160298  0.038774      0.193350\n",
       "     Yes     0.163863  0.039389      0.151240"
      ]
     },
     "execution_count": 20,
     "metadata": {
      "tags": []
     },
     "output_type": "execute_result"
    }
   ],
   "source": [
    "In [63]: grouped_pct.agg(['mean', 'std', peak_to_peak])"
   ]
  },
  {
   "cell_type": "code",
   "execution_count": 21,
   "metadata": {
    "colab": {
     "base_uri": "https://localhost:8080/",
     "height": 328
    },
    "executionInfo": {
     "elapsed": 1183,
     "status": "ok",
     "timestamp": 1609474070095,
     "user": {
      "displayName": "prathviraj shetty",
      "photoUrl": "https://lh3.googleusercontent.com/a-/AOh14GhKody4bMBhr3sFjBRSMtPKerrzBoUK7stNKBFvrA=s64",
      "userId": "03618971057838723327"
     },
     "user_tz": -330
    },
    "id": "aqC98mpL5S7H",
    "outputId": "d84b151f-dfff-4694-e155-2c49a8743134"
   },
   "outputs": [
    {
     "data": {
      "text/html": [
       "<div>\n",
       "<style scoped>\n",
       "    .dataframe tbody tr th:only-of-type {\n",
       "        vertical-align: middle;\n",
       "    }\n",
       "\n",
       "    .dataframe tbody tr th {\n",
       "        vertical-align: top;\n",
       "    }\n",
       "\n",
       "    .dataframe thead th {\n",
       "        text-align: right;\n",
       "    }\n",
       "</style>\n",
       "<table border=\"1\" class=\"dataframe\">\n",
       "  <thead>\n",
       "    <tr style=\"text-align: right;\">\n",
       "      <th></th>\n",
       "      <th></th>\n",
       "      <th>foo</th>\n",
       "      <th>bar</th>\n",
       "    </tr>\n",
       "    <tr>\n",
       "      <th>day</th>\n",
       "      <th>smoker</th>\n",
       "      <th></th>\n",
       "      <th></th>\n",
       "    </tr>\n",
       "  </thead>\n",
       "  <tbody>\n",
       "    <tr>\n",
       "      <th rowspan=\"2\" valign=\"top\">Fri</th>\n",
       "      <th>No</th>\n",
       "      <td>0.151650</td>\n",
       "      <td>0.028123</td>\n",
       "    </tr>\n",
       "    <tr>\n",
       "      <th>Yes</th>\n",
       "      <td>0.174783</td>\n",
       "      <td>0.051293</td>\n",
       "    </tr>\n",
       "    <tr>\n",
       "      <th rowspan=\"2\" valign=\"top\">Sat</th>\n",
       "      <th>No</th>\n",
       "      <td>0.158048</td>\n",
       "      <td>0.039767</td>\n",
       "    </tr>\n",
       "    <tr>\n",
       "      <th>Yes</th>\n",
       "      <td>0.147906</td>\n",
       "      <td>0.061375</td>\n",
       "    </tr>\n",
       "    <tr>\n",
       "      <th rowspan=\"2\" valign=\"top\">Sun</th>\n",
       "      <th>No</th>\n",
       "      <td>0.160113</td>\n",
       "      <td>0.042347</td>\n",
       "    </tr>\n",
       "    <tr>\n",
       "      <th>Yes</th>\n",
       "      <td>0.187250</td>\n",
       "      <td>0.154134</td>\n",
       "    </tr>\n",
       "    <tr>\n",
       "      <th rowspan=\"2\" valign=\"top\">Thur</th>\n",
       "      <th>No</th>\n",
       "      <td>0.160298</td>\n",
       "      <td>0.038774</td>\n",
       "    </tr>\n",
       "    <tr>\n",
       "      <th>Yes</th>\n",
       "      <td>0.163863</td>\n",
       "      <td>0.039389</td>\n",
       "    </tr>\n",
       "  </tbody>\n",
       "</table>\n",
       "</div>"
      ],
      "text/plain": [
       "                  foo       bar\n",
       "day  smoker                    \n",
       "Fri  No      0.151650  0.028123\n",
       "     Yes     0.174783  0.051293\n",
       "Sat  No      0.158048  0.039767\n",
       "     Yes     0.147906  0.061375\n",
       "Sun  No      0.160113  0.042347\n",
       "     Yes     0.187250  0.154134\n",
       "Thur No      0.160298  0.038774\n",
       "     Yes     0.163863  0.039389"
      ]
     },
     "execution_count": 21,
     "metadata": {
      "tags": []
     },
     "output_type": "execute_result"
    }
   ],
   "source": [
    "In [64]: grouped_pct.agg([('foo', 'mean'), ('bar', np.std)])"
   ]
  },
  {
   "cell_type": "code",
   "execution_count": 22,
   "metadata": {
    "colab": {
     "base_uri": "https://localhost:8080/",
     "height": 413
    },
    "executionInfo": {
     "elapsed": 1170,
     "status": "ok",
     "timestamp": 1609474168500,
     "user": {
      "displayName": "prathviraj shetty",
      "photoUrl": "https://lh3.googleusercontent.com/a-/AOh14GhKody4bMBhr3sFjBRSMtPKerrzBoUK7stNKBFvrA=s64",
      "userId": "03618971057838723327"
     },
     "user_tz": -330
    },
    "id": "oGUu1Ula5cCN",
    "outputId": "555034cd-9b46-486e-e066-e016339dbb6d"
   },
   "outputs": [
    {
     "name": "stderr",
     "output_type": "stream",
     "text": [
      "/usr/local/lib/python3.6/dist-packages/ipykernel_launcher.py:2: FutureWarning: Indexing with multiple keys (implicitly converted to a tuple of keys) will be deprecated, use a list instead.\n",
      "  \n"
     ]
    },
    {
     "data": {
      "text/html": [
       "<div>\n",
       "<style scoped>\n",
       "    .dataframe tbody tr th:only-of-type {\n",
       "        vertical-align: middle;\n",
       "    }\n",
       "\n",
       "    .dataframe tbody tr th {\n",
       "        vertical-align: top;\n",
       "    }\n",
       "\n",
       "    .dataframe thead tr th {\n",
       "        text-align: left;\n",
       "    }\n",
       "\n",
       "    .dataframe thead tr:last-of-type th {\n",
       "        text-align: right;\n",
       "    }\n",
       "</style>\n",
       "<table border=\"1\" class=\"dataframe\">\n",
       "  <thead>\n",
       "    <tr>\n",
       "      <th></th>\n",
       "      <th></th>\n",
       "      <th colspan=\"3\" halign=\"left\">tip_pct</th>\n",
       "      <th colspan=\"3\" halign=\"left\">total_bill</th>\n",
       "    </tr>\n",
       "    <tr>\n",
       "      <th></th>\n",
       "      <th></th>\n",
       "      <th>count</th>\n",
       "      <th>mean</th>\n",
       "      <th>max</th>\n",
       "      <th>count</th>\n",
       "      <th>mean</th>\n",
       "      <th>max</th>\n",
       "    </tr>\n",
       "    <tr>\n",
       "      <th>day</th>\n",
       "      <th>smoker</th>\n",
       "      <th></th>\n",
       "      <th></th>\n",
       "      <th></th>\n",
       "      <th></th>\n",
       "      <th></th>\n",
       "      <th></th>\n",
       "    </tr>\n",
       "  </thead>\n",
       "  <tbody>\n",
       "    <tr>\n",
       "      <th rowspan=\"2\" valign=\"top\">Fri</th>\n",
       "      <th>No</th>\n",
       "      <td>4</td>\n",
       "      <td>0.151650</td>\n",
       "      <td>0.187735</td>\n",
       "      <td>4</td>\n",
       "      <td>18.420000</td>\n",
       "      <td>22.75</td>\n",
       "    </tr>\n",
       "    <tr>\n",
       "      <th>Yes</th>\n",
       "      <td>15</td>\n",
       "      <td>0.174783</td>\n",
       "      <td>0.263480</td>\n",
       "      <td>15</td>\n",
       "      <td>16.813333</td>\n",
       "      <td>40.17</td>\n",
       "    </tr>\n",
       "    <tr>\n",
       "      <th rowspan=\"2\" valign=\"top\">Sat</th>\n",
       "      <th>No</th>\n",
       "      <td>45</td>\n",
       "      <td>0.158048</td>\n",
       "      <td>0.291990</td>\n",
       "      <td>45</td>\n",
       "      <td>19.661778</td>\n",
       "      <td>48.33</td>\n",
       "    </tr>\n",
       "    <tr>\n",
       "      <th>Yes</th>\n",
       "      <td>42</td>\n",
       "      <td>0.147906</td>\n",
       "      <td>0.325733</td>\n",
       "      <td>42</td>\n",
       "      <td>21.276667</td>\n",
       "      <td>50.81</td>\n",
       "    </tr>\n",
       "    <tr>\n",
       "      <th rowspan=\"2\" valign=\"top\">Sun</th>\n",
       "      <th>No</th>\n",
       "      <td>57</td>\n",
       "      <td>0.160113</td>\n",
       "      <td>0.252672</td>\n",
       "      <td>57</td>\n",
       "      <td>20.506667</td>\n",
       "      <td>48.17</td>\n",
       "    </tr>\n",
       "    <tr>\n",
       "      <th>Yes</th>\n",
       "      <td>19</td>\n",
       "      <td>0.187250</td>\n",
       "      <td>0.710345</td>\n",
       "      <td>19</td>\n",
       "      <td>24.120000</td>\n",
       "      <td>45.35</td>\n",
       "    </tr>\n",
       "    <tr>\n",
       "      <th rowspan=\"2\" valign=\"top\">Thur</th>\n",
       "      <th>No</th>\n",
       "      <td>45</td>\n",
       "      <td>0.160298</td>\n",
       "      <td>0.266312</td>\n",
       "      <td>45</td>\n",
       "      <td>17.113111</td>\n",
       "      <td>41.19</td>\n",
       "    </tr>\n",
       "    <tr>\n",
       "      <th>Yes</th>\n",
       "      <td>17</td>\n",
       "      <td>0.163863</td>\n",
       "      <td>0.241255</td>\n",
       "      <td>17</td>\n",
       "      <td>19.190588</td>\n",
       "      <td>43.11</td>\n",
       "    </tr>\n",
       "  </tbody>\n",
       "</table>\n",
       "</div>"
      ],
      "text/plain": [
       "            tip_pct                     total_bill                  \n",
       "              count      mean       max      count       mean    max\n",
       "day  smoker                                                         \n",
       "Fri  No           4  0.151650  0.187735          4  18.420000  22.75\n",
       "     Yes         15  0.174783  0.263480         15  16.813333  40.17\n",
       "Sat  No          45  0.158048  0.291990         45  19.661778  48.33\n",
       "     Yes         42  0.147906  0.325733         42  21.276667  50.81\n",
       "Sun  No          57  0.160113  0.252672         57  20.506667  48.17\n",
       "     Yes         19  0.187250  0.710345         19  24.120000  45.35\n",
       "Thur No          45  0.160298  0.266312         45  17.113111  41.19\n",
       "     Yes         17  0.163863  0.241255         17  19.190588  43.11"
      ]
     },
     "execution_count": 22,
     "metadata": {
      "tags": []
     },
     "output_type": "execute_result"
    }
   ],
   "source": [
    "In [65]: functions = ['count', 'mean', 'max']\n",
    "In [66]: result = grouped['tip_pct', 'total_bill'].agg(functions)\n",
    "In [67]: result"
   ]
  },
  {
   "cell_type": "code",
   "execution_count": 23,
   "metadata": {
    "colab": {
     "base_uri": "https://localhost:8080/",
     "height": 328
    },
    "executionInfo": {
     "elapsed": 1214,
     "status": "ok",
     "timestamp": 1609474213403,
     "user": {
      "displayName": "prathviraj shetty",
      "photoUrl": "https://lh3.googleusercontent.com/a-/AOh14GhKody4bMBhr3sFjBRSMtPKerrzBoUK7stNKBFvrA=s64",
      "userId": "03618971057838723327"
     },
     "user_tz": -330
    },
    "id": "ehTMmmN05mbo",
    "outputId": "b9d7d2e7-9e3f-45d0-a31a-40f7d8be23a9"
   },
   "outputs": [
    {
     "data": {
      "text/html": [
       "<div>\n",
       "<style scoped>\n",
       "    .dataframe tbody tr th:only-of-type {\n",
       "        vertical-align: middle;\n",
       "    }\n",
       "\n",
       "    .dataframe tbody tr th {\n",
       "        vertical-align: top;\n",
       "    }\n",
       "\n",
       "    .dataframe thead th {\n",
       "        text-align: right;\n",
       "    }\n",
       "</style>\n",
       "<table border=\"1\" class=\"dataframe\">\n",
       "  <thead>\n",
       "    <tr style=\"text-align: right;\">\n",
       "      <th></th>\n",
       "      <th></th>\n",
       "      <th>count</th>\n",
       "      <th>mean</th>\n",
       "      <th>max</th>\n",
       "    </tr>\n",
       "    <tr>\n",
       "      <th>day</th>\n",
       "      <th>smoker</th>\n",
       "      <th></th>\n",
       "      <th></th>\n",
       "      <th></th>\n",
       "    </tr>\n",
       "  </thead>\n",
       "  <tbody>\n",
       "    <tr>\n",
       "      <th rowspan=\"2\" valign=\"top\">Fri</th>\n",
       "      <th>No</th>\n",
       "      <td>4</td>\n",
       "      <td>0.151650</td>\n",
       "      <td>0.187735</td>\n",
       "    </tr>\n",
       "    <tr>\n",
       "      <th>Yes</th>\n",
       "      <td>15</td>\n",
       "      <td>0.174783</td>\n",
       "      <td>0.263480</td>\n",
       "    </tr>\n",
       "    <tr>\n",
       "      <th rowspan=\"2\" valign=\"top\">Sat</th>\n",
       "      <th>No</th>\n",
       "      <td>45</td>\n",
       "      <td>0.158048</td>\n",
       "      <td>0.291990</td>\n",
       "    </tr>\n",
       "    <tr>\n",
       "      <th>Yes</th>\n",
       "      <td>42</td>\n",
       "      <td>0.147906</td>\n",
       "      <td>0.325733</td>\n",
       "    </tr>\n",
       "    <tr>\n",
       "      <th rowspan=\"2\" valign=\"top\">Sun</th>\n",
       "      <th>No</th>\n",
       "      <td>57</td>\n",
       "      <td>0.160113</td>\n",
       "      <td>0.252672</td>\n",
       "    </tr>\n",
       "    <tr>\n",
       "      <th>Yes</th>\n",
       "      <td>19</td>\n",
       "      <td>0.187250</td>\n",
       "      <td>0.710345</td>\n",
       "    </tr>\n",
       "    <tr>\n",
       "      <th rowspan=\"2\" valign=\"top\">Thur</th>\n",
       "      <th>No</th>\n",
       "      <td>45</td>\n",
       "      <td>0.160298</td>\n",
       "      <td>0.266312</td>\n",
       "    </tr>\n",
       "    <tr>\n",
       "      <th>Yes</th>\n",
       "      <td>17</td>\n",
       "      <td>0.163863</td>\n",
       "      <td>0.241255</td>\n",
       "    </tr>\n",
       "  </tbody>\n",
       "</table>\n",
       "</div>"
      ],
      "text/plain": [
       "             count      mean       max\n",
       "day  smoker                           \n",
       "Fri  No          4  0.151650  0.187735\n",
       "     Yes        15  0.174783  0.263480\n",
       "Sat  No         45  0.158048  0.291990\n",
       "     Yes        42  0.147906  0.325733\n",
       "Sun  No         57  0.160113  0.252672\n",
       "     Yes        19  0.187250  0.710345\n",
       "Thur No         45  0.160298  0.266312\n",
       "     Yes        17  0.163863  0.241255"
      ]
     },
     "execution_count": 23,
     "metadata": {
      "tags": []
     },
     "output_type": "execute_result"
    }
   ],
   "source": [
    "In [68]: result['tip_pct']"
   ]
  },
  {
   "cell_type": "markdown",
   "metadata": {
    "id": "f7teDcRTWIMI"
   },
   "source": [
    "**Returning Aggregated Data Without Row Indexes**"
   ]
  },
  {
   "cell_type": "code",
   "execution_count": 24,
   "metadata": {
    "colab": {
     "base_uri": "https://localhost:8080/",
     "height": 297
    },
    "executionInfo": {
     "elapsed": 1158,
     "status": "ok",
     "timestamp": 1609474278083,
     "user": {
      "displayName": "prathviraj shetty",
      "photoUrl": "https://lh3.googleusercontent.com/a-/AOh14GhKody4bMBhr3sFjBRSMtPKerrzBoUK7stNKBFvrA=s64",
      "userId": "03618971057838723327"
     },
     "user_tz": -330
    },
    "id": "4iiEOyltWKFX",
    "outputId": "3048d24f-41e3-4611-e3b7-5bf893372780"
   },
   "outputs": [
    {
     "data": {
      "text/html": [
       "<div>\n",
       "<style scoped>\n",
       "    .dataframe tbody tr th:only-of-type {\n",
       "        vertical-align: middle;\n",
       "    }\n",
       "\n",
       "    .dataframe tbody tr th {\n",
       "        vertical-align: top;\n",
       "    }\n",
       "\n",
       "    .dataframe thead th {\n",
       "        text-align: right;\n",
       "    }\n",
       "</style>\n",
       "<table border=\"1\" class=\"dataframe\">\n",
       "  <thead>\n",
       "    <tr style=\"text-align: right;\">\n",
       "      <th></th>\n",
       "      <th>day</th>\n",
       "      <th>smoker</th>\n",
       "      <th>Unnamed: 0</th>\n",
       "      <th>total_bill</th>\n",
       "      <th>tip</th>\n",
       "      <th>size</th>\n",
       "      <th>tip_pct</th>\n",
       "    </tr>\n",
       "  </thead>\n",
       "  <tbody>\n",
       "    <tr>\n",
       "      <th>0</th>\n",
       "      <td>Fri</td>\n",
       "      <td>No</td>\n",
       "      <td>127.750000</td>\n",
       "      <td>18.420000</td>\n",
       "      <td>2.812500</td>\n",
       "      <td>2.250000</td>\n",
       "      <td>0.151650</td>\n",
       "    </tr>\n",
       "    <tr>\n",
       "      <th>1</th>\n",
       "      <td>Fri</td>\n",
       "      <td>Yes</td>\n",
       "      <td>147.666667</td>\n",
       "      <td>16.813333</td>\n",
       "      <td>2.714000</td>\n",
       "      <td>2.066667</td>\n",
       "      <td>0.174783</td>\n",
       "    </tr>\n",
       "    <tr>\n",
       "      <th>2</th>\n",
       "      <td>Sat</td>\n",
       "      <td>No</td>\n",
       "      <td>86.266667</td>\n",
       "      <td>19.661778</td>\n",
       "      <td>3.102889</td>\n",
       "      <td>2.555556</td>\n",
       "      <td>0.158048</td>\n",
       "    </tr>\n",
       "    <tr>\n",
       "      <th>3</th>\n",
       "      <td>Sat</td>\n",
       "      <td>Yes</td>\n",
       "      <td>159.761905</td>\n",
       "      <td>21.276667</td>\n",
       "      <td>2.875476</td>\n",
       "      <td>2.476190</td>\n",
       "      <td>0.147906</td>\n",
       "    </tr>\n",
       "    <tr>\n",
       "      <th>4</th>\n",
       "      <td>Sun</td>\n",
       "      <td>No</td>\n",
       "      <td>77.052632</td>\n",
       "      <td>20.506667</td>\n",
       "      <td>3.167895</td>\n",
       "      <td>2.929825</td>\n",
       "      <td>0.160113</td>\n",
       "    </tr>\n",
       "    <tr>\n",
       "      <th>5</th>\n",
       "      <td>Sun</td>\n",
       "      <td>Yes</td>\n",
       "      <td>180.894737</td>\n",
       "      <td>24.120000</td>\n",
       "      <td>3.516842</td>\n",
       "      <td>2.578947</td>\n",
       "      <td>0.187250</td>\n",
       "    </tr>\n",
       "    <tr>\n",
       "      <th>6</th>\n",
       "      <td>Thur</td>\n",
       "      <td>No</td>\n",
       "      <td>125.555556</td>\n",
       "      <td>17.113111</td>\n",
       "      <td>2.673778</td>\n",
       "      <td>2.488889</td>\n",
       "      <td>0.160298</td>\n",
       "    </tr>\n",
       "    <tr>\n",
       "      <th>7</th>\n",
       "      <td>Thur</td>\n",
       "      <td>Yes</td>\n",
       "      <td>181.941176</td>\n",
       "      <td>19.190588</td>\n",
       "      <td>3.030000</td>\n",
       "      <td>2.352941</td>\n",
       "      <td>0.163863</td>\n",
       "    </tr>\n",
       "  </tbody>\n",
       "</table>\n",
       "</div>"
      ],
      "text/plain": [
       "    day smoker  Unnamed: 0  total_bill       tip      size   tip_pct\n",
       "0   Fri     No  127.750000   18.420000  2.812500  2.250000  0.151650\n",
       "1   Fri    Yes  147.666667   16.813333  2.714000  2.066667  0.174783\n",
       "2   Sat     No   86.266667   19.661778  3.102889  2.555556  0.158048\n",
       "3   Sat    Yes  159.761905   21.276667  2.875476  2.476190  0.147906\n",
       "4   Sun     No   77.052632   20.506667  3.167895  2.929825  0.160113\n",
       "5   Sun    Yes  180.894737   24.120000  3.516842  2.578947  0.187250\n",
       "6  Thur     No  125.555556   17.113111  2.673778  2.488889  0.160298\n",
       "7  Thur    Yes  181.941176   19.190588  3.030000  2.352941  0.163863"
      ]
     },
     "execution_count": 24,
     "metadata": {
      "tags": []
     },
     "output_type": "execute_result"
    }
   ],
   "source": [
    "In [73]: tips.groupby(['day', 'smoker'], as_index=False).mean()"
   ]
  },
  {
   "cell_type": "markdown",
   "metadata": {
    "id": "EKAyzf8JYhuX"
   },
   "source": [
    "**Example: Filling Missing Values with Group-Specific Values**"
   ]
  },
  {
   "cell_type": "code",
   "execution_count": null,
   "metadata": {
    "id": "R6_tkcTAYlef"
   },
   "outputs": [],
   "source": [
    "In [91]: s = pd.Series(np.random.randn(6))\n",
    "In [92]: s[::2] = np.nan\n",
    "In [93]: s"
   ]
  },
  {
   "cell_type": "code",
   "execution_count": null,
   "metadata": {
    "id": "DyuyoEfnYr4N"
   },
   "outputs": [],
   "source": [
    "s.fillna(s.mean())"
   ]
  },
  {
   "cell_type": "code",
   "execution_count": null,
   "metadata": {
    "id": "Tx_YuJUxYx9b"
   },
   "outputs": [],
   "source": [
    "In [95]: states = ['Ohio', 'New York', 'Vermont', 'Florida',\n",
    "....: 'Oregon', 'Nevada', 'California', 'Idaho']\n",
    "In [96]: group_key = ['East'] * 4 + ['West'] * 4\n",
    "In [97]: data = pd.Series(np.random.randn(8), index=states)\n",
    "In [98]: data"
   ]
  },
  {
   "cell_type": "code",
   "execution_count": null,
   "metadata": {
    "id": "hvfrF4sIZEb-"
   },
   "outputs": [],
   "source": [
    "In [99]: data[['Vermont', 'Nevada', 'Idaho']] = np.nan\n",
    "In [100]: data"
   ]
  },
  {
   "cell_type": "code",
   "execution_count": null,
   "metadata": {
    "id": "9F0gsbdYZQcB"
   },
   "outputs": [],
   "source": [
    "In [101]: data.groupby(group_key).mean()"
   ]
  },
  {
   "cell_type": "code",
   "execution_count": null,
   "metadata": {
    "id": "ovERIfM_Zbi6"
   },
   "outputs": [],
   "source": [
    "In [102]: fill_mean = lambda g: g.fillna(g.mean())\n",
    "In [103]: data.groupby(group_key).apply(fill_mean)"
   ]
  }
 ],
 "metadata": {
  "colab": {
   "authorship_tag": "ABX9TyPlR2UgtNG09+i5UKhKP8Xz",
   "name": "Data Aggregation and Group Operations.ipynb",
   "provenance": []
  },
  "kernelspec": {
   "display_name": "Python 3",
   "language": "python",
   "name": "python3"
  },
  "language_info": {
   "codemirror_mode": {
    "name": "ipython",
    "version": 3
   },
   "file_extension": ".py",
   "mimetype": "text/x-python",
   "name": "python",
   "nbconvert_exporter": "python",
   "pygments_lexer": "ipython3",
   "version": "3.8.5"
  }
 },
 "nbformat": 4,
 "nbformat_minor": 1
}
